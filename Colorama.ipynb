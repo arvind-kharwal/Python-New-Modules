{
 "cells": [
  {
   "cell_type": "code",
   "execution_count": 1,
   "id": "80bf270d",
   "metadata": {},
   "outputs": [],
   "source": [
    "from colorama import Fore"
   ]
  },
  {
   "cell_type": "code",
   "execution_count": 3,
   "id": "2d65ab67",
   "metadata": {},
   "outputs": [
    {
     "name": "stdout",
     "output_type": "stream",
     "text": [
      "\u001b[31mHello\n"
     ]
    }
   ],
   "source": [
    "print(Fore.RED+\"Hello\")"
   ]
  },
  {
   "cell_type": "code",
   "execution_count": 5,
   "id": "e598163e",
   "metadata": {},
   "outputs": [
    {
     "name": "stdout",
     "output_type": "stream",
     "text": [
      "\u001b[32mHello\n"
     ]
    }
   ],
   "source": [
    "print(Fore.GREEN+\"Hello\")"
   ]
  },
  {
   "cell_type": "code",
   "execution_count": 6,
   "id": "a304bc20",
   "metadata": {},
   "outputs": [
    {
     "name": "stdout",
     "output_type": "stream",
     "text": [
      "\u001b[34mHello\n"
     ]
    }
   ],
   "source": [
    "print(Fore.BLUE+\"Hello\")"
   ]
  },
  {
   "cell_type": "code",
   "execution_count": 11,
   "id": "721f7fc8",
   "metadata": {},
   "outputs": [
    {
     "name": "stdout",
     "output_type": "stream",
     "text": [
      "\u001b[31msome red text\n",
      "\u001b[42mand with a green background\n",
      "\u001b[2mand in dim text\n",
      "\u001b[0m\n",
      "back to normal now\n"
     ]
    }
   ],
   "source": [
    "from colorama import Fore, Back, Style\n",
    "print(Fore.RED + 'some red text')\n",
    "print(Back.GREEN + 'and with a green background')\n",
    "print(Style.DIM + 'and in dim text')\n",
    "print(Style.RESET_ALL)\n",
    "print('back to normal now')"
   ]
  },
  {
   "cell_type": "code",
   "execution_count": 12,
   "id": "2eeadb1f",
   "metadata": {},
   "outputs": [],
   "source": [
    "from colorama import Back"
   ]
  },
  {
   "cell_type": "code",
   "execution_count": 13,
   "id": "2b7ce1eb",
   "metadata": {},
   "outputs": [
    {
     "name": "stdout",
     "output_type": "stream",
     "text": [
      "\u001b[43mArvind\n"
     ]
    }
   ],
   "source": [
    "print(Back.YELLOW + 'Arvind')"
   ]
  },
  {
   "cell_type": "code",
   "execution_count": 14,
   "id": "e086cca3",
   "metadata": {},
   "outputs": [],
   "source": [
    "from colorama import Style"
   ]
  },
  {
   "cell_type": "code",
   "execution_count": 15,
   "id": "018148f7",
   "metadata": {},
   "outputs": [
    {
     "name": "stdout",
     "output_type": "stream",
     "text": [
      "\u001b[2mand in dim text\n"
     ]
    }
   ],
   "source": [
    "print(Style.DIM + 'and in dim text')"
   ]
  },
  {
   "cell_type": "code",
   "execution_count": 16,
   "id": "e99f5efc",
   "metadata": {},
   "outputs": [
    {
     "name": "stdout",
     "output_type": "stream",
     "text": [
      "Hi\n"
     ]
    }
   ],
   "source": [
    "print('Hi')"
   ]
  },
  {
   "cell_type": "code",
   "execution_count": 17,
   "id": "d556ced7",
   "metadata": {},
   "outputs": [
    {
     "name": "stdout",
     "output_type": "stream",
     "text": [
      "\u001b[1mand in dim text\n"
     ]
    }
   ],
   "source": [
    "print(Style.BRIGHT + 'and in dim text')"
   ]
  },
  {
   "cell_type": "code",
   "execution_count": 18,
   "id": "8e3a9c17",
   "metadata": {},
   "outputs": [
    {
     "name": "stdout",
     "output_type": "stream",
     "text": [
      "\u001b[22mand in dim text\n"
     ]
    }
   ],
   "source": [
    "print(Style.NORMAL + 'and in dim text')"
   ]
  },
  {
   "cell_type": "code",
   "execution_count": 19,
   "id": "1f34d2df",
   "metadata": {},
   "outputs": [
    {
     "name": "stdout",
     "output_type": "stream",
     "text": [
      "\u001b[0m\n"
     ]
    }
   ],
   "source": [
    "print(Style.RESET_ALL)"
   ]
  },
  {
   "cell_type": "markdown",
   "id": "934364a9",
   "metadata": {},
   "source": [
    "Style.RESET_ALL resets foreground, background, and brightness. Colorama will perform this reset automatically on program exit."
   ]
  },
  {
   "cell_type": "code",
   "execution_count": null,
   "id": "fc4455c7",
   "metadata": {},
   "outputs": [],
   "source": []
  }
 ],
 "metadata": {
  "kernelspec": {
   "display_name": "Python 3 (ipykernel)",
   "language": "python",
   "name": "python3"
  },
  "language_info": {
   "codemirror_mode": {
    "name": "ipython",
    "version": 3
   },
   "file_extension": ".py",
   "mimetype": "text/x-python",
   "name": "python",
   "nbconvert_exporter": "python",
   "pygments_lexer": "ipython3",
   "version": "3.10.4"
  }
 },
 "nbformat": 4,
 "nbformat_minor": 5
}
